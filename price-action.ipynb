{
 "cells": [
  {
   "cell_type": "markdown",
   "metadata": {},
   "source": [
    "# <span style=\"color:yellow\"> Start up and connect to a Spark Cluster </span>\n",
    "A new cluster will be started if no cluster exists. Otherwise, let's use the existing one"
   ]
  },
  {
   "cell_type": "code",
   "execution_count": 5,
   "metadata": {},
   "outputs": [
    {
     "name": "stdout",
     "output_type": "stream",
     "text": [
      "Cluster is starting. It will be operational in approximately 8 to 12 minutes\n",
      "Starting cluster with cluster ID: v25snxim and state: STARTING\n",
      ".....................................................................................................................................................................................................................Connecting to cluster.\n",
      "cleared existing credential location\n",
      "Persisted krb5.conf secret to /etc/krb5.conf\n",
      "re-establishing connection...\n",
      "Persisted keytab secret to /home/sagemaker-user/livy.keytab\n",
      "Authenticated to Spark cluster\n",
      "Persisted sparkmagic config to /home/sagemaker-user/.sparkmagic/config.json\n",
      "Started Spark cluster with clusterId: v25snxim\n",
      "finished reloading all magics & configurations\n",
      "Persisted finspace cluster connection info to /home/sagemaker-user/.sparkmagic/finspace_connection_info.json\n"
     ]
    },
    {
     "data": {
      "text/html": [
       "<div><br /><div class=\"alert alert-block alert-success\" style=\"color:black;\">Now connected to your Small FinSpace Cluster: v25snxim at UTC: 2022-07-06 20:16:12</div><div>Billing is per minute while the cluster is running.<br>To stop a running cluster, execute in a cell the code: <pre style=\"padding-left:20px\">  %local\n",
       "  FinSpaceClusterManager().terminate(\"v25snxim\")</pre><br>See <a href=\"https://aws.amazon.com/finspace/pricing/\">FinSpace Pricing page</a> for cluster pricing details.<br></div><br><div class=\"alert alert-success\" style=\"color:black;\">You can have up to 7 notebooks connected to a Small cluster.</div></div>"
      ],
      "text/plain": [
       "<IPython.core.display.HTML object>"
      ]
     },
     "metadata": {},
     "output_type": "display_data"
    },
    {
     "name": "stdout",
     "output_type": "stream",
     "text": [
      "connected to cluster: v25snxim\n"
     ]
    }
   ],
   "source": [
    "%local\n",
    "from aws.finspace.cluster import FinSpaceClusterManager\n",
    "\n",
    "# if this was already run, no need to run again\n",
    "if 'finspace_clusters' not in globals():\n",
    "    finspace_clusters = FinSpaceClusterManager()\n",
    "    finspace_clusters.auto_connect()\n",
    "\n",
    "cluster_id = finspace_clusters.get_connected_cluster_id()\n",
    "print(f'connected to cluster: {cluster_id}')"
   ]
  },
  {
   "cell_type": "code",
   "execution_count": 6,
   "metadata": {},
   "outputs": [
    {
     "name": "stdout",
     "output_type": "stream",
     "text": [
      "Starting Spark session\n"
     ]
    },
    {
     "data": {
      "text/html": [
       "<table>\n",
       "<tr><th>ID</th><th>YARN Application ID</th><th>Kind</th><th>State</th><th>Spark UI</th><th>Driver log</th><th>Current session?</th></tr><tr><td>0</td><td>application_1657138234953_0001</td><td>pyspark</td><td>idle</td><td><a target=\"_blank\" href=\"http://ip-192-168-35-103.ec2.internal:20888/proxy/application_1657138234953_0001/\">Link</a></td><td><a target=\"_blank\" href=\"http://ip-192-168-42-185.ec2.internal:8042/node/containerlogs/container_1657138234953_0001_01_000001/livy\">Link</a></td><td>✔</td></tr></table>"
      ],
      "text/plain": [
       "<IPython.core.display.HTML object>"
      ]
     },
     "metadata": {},
     "output_type": "display_data"
    },
    {
     "data": {
      "application/vnd.jupyter.widget-view+json": {
       "model_id": "",
       "version_major": 2,
       "version_minor": 0
      },
      "text/plain": [
       "FloatProgress(value=0.0, bar_style='info', description='Progress:', layout=Layout(height='25px', width='50%'),…"
      ]
     },
     "metadata": {},
     "output_type": "display_data"
    },
    {
     "name": "stdout",
     "output_type": "stream",
     "text": [
      "SparkSession available as 'spark'.\n"
     ]
    },
    {
     "data": {
      "application/vnd.jupyter.widget-view+json": {
       "model_id": "",
       "version_major": 2,
       "version_minor": 0
      },
      "text/plain": [
       "FloatProgress(value=0.0, bar_style='info', description='Progress:', layout=Layout(height='25px', width='50%'),…"
      ]
     },
     "metadata": {},
     "output_type": "display_data"
    }
   ],
   "source": [
    "#%local\n",
    "#import pandas as pd\n",
    "#pd.DataFrame.from_dict( finspace_clusters.list()['clusters'] ) "
   ]
  },
  {
   "cell_type": "markdown",
   "metadata": {},
   "source": [
    "# <span style=\"color:yellow\"> Set dataset and view </span>\n",
    "The demo uses the dataset: \"US Equity TAQ Sample - AMZN 6 Months - Sample\". A user needs to replace the values of the 2 parameters with what are shown in finspace"
   ]
  },
  {
   "cell_type": "code",
   "execution_count": 7,
   "metadata": {},
   "outputs": [
    {
     "data": {
      "application/vnd.jupyter.widget-view+json": {
       "model_id": "",
       "version_major": 2,
       "version_minor": 0
      },
      "text/plain": [
       "FloatProgress(value=0.0, bar_style='info', description='Progress:', layout=Layout(height='25px', width='50%'),…"
      ]
     },
     "metadata": {},
     "output_type": "display_data"
    }
   ],
   "source": [
    "#%local \n",
    "#####----------------------------------------------------------\n",
    "##### Place to change\n",
    "##### REPLACE WITH CORRECT IDS!\n",
    "##### Dataset: \"US Equity TAQ Sample - AMZN 6 Months - Sample\"\n",
    "#####\n",
    "#####----------------------------------------------------------\n",
    "\n",
    "dataset_id = 'lognuf1'\n",
    "view_id    = 'HMDkXwrvn5urQY898eEGXQ'"
   ]
  },
  {
   "cell_type": "markdown",
   "metadata": {},
   "source": [
    "# <span style=\"color:yellow\"> Obtain and process data using FinSpace analytical functions </span>\n",
    "Import libraries for price pattern analysis (`scipy`), plotting (`matplotlib`), data processing (`pyspark`) and aggregation (`finspace`)"
   ]
  },
  {
   "cell_type": "code",
   "execution_count": 8,
   "metadata": {},
   "outputs": [
    {
     "data": {
      "application/vnd.jupyter.widget-view+json": {
       "model_id": "",
       "version_major": 2,
       "version_minor": 0
      },
      "text/plain": [
       "FloatProgress(value=0.0, bar_style='info', description='Progress:', layout=Layout(height='25px', width='50%'),…"
      ]
     },
     "metadata": {},
     "output_type": "display_data"
    },
    {
     "name": "stdout",
     "output_type": "stream",
     "text": [
      "/usr/lib/spark/python/lib/pyspark.zip/pyspark/sql/pandas/functions.py:392: UserWarning: In Python 3.6+ and Spark 3.0+, it is preferred to specify type hints for pandas UDF instead of specifying pandas UDF type which will be deprecated in the future releases. See SPARK-28264 for more details."
     ]
    }
   ],
   "source": [
    "import numpy as np\n",
    "from scipy.signal import argrelextrema\n",
    "import os\n",
    "import matplotlib.pyplot as plt\n",
    "import matplotlib\n",
    "from collections import defaultdict\n",
    "import time\n",
    "import matplotlib.pyplot as plt\n",
    "import datetime as dt\n",
    "import pyspark.sql.functions as F\n",
    "import pyspark.sql.types as T\n",
    "import pprint \n",
    "from aws.finspace.timeseries.spark.util import string_to_timestamp_micros\n",
    "from aws.finspace.timeseries.spark.windows import create_time_bars, compute_analytics_on_features, compute_features_on_time_bars\n",
    "from aws.finspace.timeseries.spark.spec import BarInputSpec, TimeBarSpec\n",
    "from aws.finspace.timeseries.spark.summarizer import *\n",
    "from aws.finspace.timeseries.spark.analytics import *\n",
    "from aws.finspace.timeseries.finance.calendars import *\n",
    "from aws.finspace.timeseries.spark.prepare import *\n"
   ]
  },
  {
   "cell_type": "markdown",
   "metadata": {},
   "source": [
    "Call the finspace library function `FinSpaceAnalyticsManager` to obtain the finspace analytics manager"
   ]
  },
  {
   "cell_type": "code",
   "execution_count": 9,
   "metadata": {},
   "outputs": [
    {
     "data": {
      "application/vnd.jupyter.widget-view+json": {
       "model_id": "",
       "version_major": 2,
       "version_minor": 0
      },
      "text/plain": [
       "FloatProgress(value=0.0, bar_style='info', description='Progress:', layout=Layout(height='25px', width='50%'),…"
      ]
     },
     "metadata": {},
     "output_type": "display_data"
    }
   ],
   "source": [
    "# Initialize and Connect\n",
    "from aws.finspace.analytics import FinSpaceAnalyticsManager\n",
    "finspace = FinSpaceAnalyticsManager(spark = spark)"
   ]
  },
  {
   "cell_type": "markdown",
   "metadata": {},
   "source": [
    "Set the day range for price action analysis "
   ]
  },
  {
   "cell_type": "code",
   "execution_count": 10,
   "metadata": {},
   "outputs": [
    {
     "data": {
      "application/vnd.jupyter.widget-view+json": {
       "model_id": "",
       "version_major": 2,
       "version_minor": 0
      },
      "text/plain": [
       "FloatProgress(value=0.0, bar_style='info', description='Progress:', layout=Layout(height='25px', width='50%'),…"
      ]
     },
     "metadata": {},
     "output_type": "display_data"
    }
   ],
   "source": [
    "# Date range\n",
    "start_date = dt.datetime(2019, 10, 1)\n",
    "end_date   = dt.datetime(2019, 12, 31)\n",
    "\n",
    "# debug mode\n",
    "debug_mode = True"
   ]
  },
  {
   "cell_type": "markdown",
   "metadata": {},
   "source": [
    "Read data from the finspace"
   ]
  },
  {
   "cell_type": "code",
   "execution_count": 11,
   "metadata": {},
   "outputs": [
    {
     "data": {
      "application/vnd.jupyter.widget-view+json": {
       "model_id": "",
       "version_major": 2,
       "version_minor": 0
      },
      "text/plain": [
       "FloatProgress(value=0.0, bar_style='info', description='Progress:', layout=Layout(height='25px', width='50%'),…"
      ]
     },
     "metadata": {},
     "output_type": "display_data"
    },
    {
     "name": "stdout",
     "output_type": "stream",
     "text": [
      "root\n",
      " |-- timestamp: string (nullable = true)\n",
      " |-- eventtype: string (nullable = true)\n",
      " |-- ticker: string (nullable = true)\n",
      " |-- price: double (nullable = true)\n",
      " |-- quantity: long (nullable = true)\n",
      " |-- exchange: string (nullable = true)\n",
      " |-- conditions: string (nullable = true)\n",
      " |-- datetime: timestamp (nullable = true)\n",
      " |-- date: date (nullable = true)\n",
      "\n",
      "145933032"
     ]
    }
   ],
   "source": [
    "#tDF = finspace.read_view_as_spark(dataset_id = dataset_id, view_id = view_id)\n",
    "tDF = finspace.read_data_view(dataset_id = dataset_id, data_view_id = view_id)\n",
    "if debug_mode:\n",
    "    tDF.printSchema() \n",
    "    tDF.count()"
   ]
  },
  {
   "cell_type": "markdown",
   "metadata": {},
   "source": [
    "Next we decide how to generate \"bars\" for further technical analysis. We select the bar size to be 1 min because it is normally the highest frequency human traders can process. Further smoothing or aggregation can also be applied to multiple bars in a flexible and user configurable way."
   ]
  },
  {
   "cell_type": "code",
   "execution_count": 12,
   "metadata": {},
   "outputs": [
    {
     "data": {
      "application/vnd.jupyter.widget-view+json": {
       "model_id": "",
       "version_major": 2,
       "version_minor": 0
      },
      "text/plain": [
       "FloatProgress(value=0.0, bar_style='info', description='Progress:', layout=Layout(height='25px', width='50%'),…"
      ]
     },
     "metadata": {},
     "output_type": "display_data"
    }
   ],
   "source": [
    "bw = '1 minute'\n",
    "\n",
    "# what columns to collect in the bar - fixed\n",
    "bar_input_spec = BarInputSpec('activity', 'datetime', 'timestamp', 'price', 'quantity', 'exchange', 'conditions' )\n",
    "# timebar column name - fixed\n",
    "timebar_col = 'window'\n",
    "# group the dataset's values by....\n",
    "partitionList = [\"ticker\", \"eventtype\"]\n",
    "# ticker and trade event for which the trading sign is defined. \n",
    "fTicker = 'AMZN'\n",
    "event_type = 'TRADE NB'"
   ]
  },
  {
   "cell_type": "markdown",
   "metadata": {},
   "source": [
    "Call `finspace` library to generate bars in the form of spark dataframe. Then several number technical indicators (e.g. `std`, `vwap`, `ohlc`, `volume`) are generated using the library functions. Finally, we only select trading data within the analysis window"
   ]
  },
  {
   "cell_type": "code",
   "execution_count": 13,
   "metadata": {},
   "outputs": [
    {
     "data": {
      "application/vnd.jupyter.widget-view+json": {
       "model_id": "",
       "version_major": 2,
       "version_minor": 0
      },
      "text/plain": [
       "FloatProgress(value=0.0, bar_style='info', description='Progress:', layout=Layout(height='25px', width='50%'),…"
      ]
     },
     "metadata": {},
     "output_type": "display_data"
    },
    {
     "name": "stdout",
     "output_type": "stream",
     "text": [
      "DataFrame[window: struct<start:timestamp,end:timestamp>, date: date, ticker: string, eventtype: string, activity_count: int, std: double, vwap: double, ohlc: struct<open:double,high:double,low:double,close:double>, volume: double]"
     ]
    }
   ],
   "source": [
    "timebar_spec   = TimeBarSpec(timestamp_column='datetime', window_duration=bw, slide_duration=bw)\n",
    "bar_input_spec = BarInputSpec('activity', 'datetime', 'timestamp', 'price', 'quantity', 'exchange', 'conditions' )\n",
    "collDF = create_time_bars(data = tDF, \n",
    "                         timebar_column = timebar_col, \n",
    "                         grouping_col_list = ['date', 'ticker', 'eventtype'], \n",
    "                         input_spec = bar_input_spec, \n",
    "                         timebar_spec = timebar_spec)\\\n",
    "            .withColumn( 'activity_count', F.size( F.col('activity') ) )\n",
    "# free up DF\n",
    "tDF.unpersist()\n",
    "\n",
    "sumDF = ( collDF\n",
    "        .withColumn( 'std',    std( 'activity.price' ) )\n",
    "        .withColumn( 'vwap',   vwap( 'activity.price', 'activity.quantity' ) )\n",
    "        .withColumn( 'ohlc',   ohlc_func( 'activity.datetime', 'activity.price' ) ) \n",
    "        .withColumn( 'volume', total_volume( 'activity.quantity' ) )        \n",
    "        .drop( collDF.activity )\n",
    "    )\n",
    "# free up DF\n",
    "collDF.unpersist()\n",
    "\n",
    "ffDF = time_bar_fill_and_filter(sumDF, timebar_col, NYSECalendar20192020(), timebar_spec, start_date, end_date, fill_value=np.nan)\n",
    "# free up DF\n",
    "sumDF.unpersist()\n",
    "\n",
    "tsDF = ( ffDF        \n",
    "        .filter(ffDF.date.between(start_date, end_date))\n",
    "        .filter(ffDF.eventtype==event_type)\n",
    "        # flatten window\n",
    "        .withColumn(\"start\", ffDF.window.start)\n",
    "        .withColumn(\"end\",   ffDF.window.end)\n",
    "        .drop(\"window\")\n",
    "        # flatten ohlc\n",
    "        .withColumn(\"open\",  ffDF.ohlc.open)\n",
    "        .withColumn(\"high\",  ffDF.ohlc.high)\n",
    "        .withColumn(\"low\",   ffDF.ohlc.low)\n",
    "        .withColumn(\"close\", ffDF.ohlc.close)\n",
    "        .drop(\"ohlc\")\n",
    "        # order \n",
    "        .orderBy(\"ticker\", \"eventtype\", \"start\")\n",
    "    )\n",
    "# free up DF\n",
    "ffDF.unpersist()"
   ]
  },
  {
   "cell_type": "code",
   "execution_count": 14,
   "metadata": {},
   "outputs": [
    {
     "data": {
      "application/vnd.jupyter.widget-view+json": {
       "model_id": "",
       "version_major": 2,
       "version_minor": 0
      },
      "text/plain": [
       "FloatProgress(value=0.0, bar_style='info', description='Progress:', layout=Layout(height='25px', width='50%'),…"
      ]
     },
     "metadata": {},
     "output_type": "display_data"
    },
    {
     "name": "stdout",
     "output_type": "stream",
     "text": [
      "7066"
     ]
    }
   ],
   "source": [
    "tsDF.count()"
   ]
  },
  {
   "cell_type": "markdown",
   "metadata": {},
   "source": [
    "# <span style=\"color:yellow\"> Further smooth close price to reduce noise in head-shoulder pattern detection </span>"
   ]
  },
  {
   "cell_type": "markdown",
   "metadata": {},
   "source": [
    "Smoothing is usually needed to reduce the noise in price action pattern identification. This demo chooses to smooth the close price using exponential moving average of past 5 bars. Finally, only 3 columns of the dataframe are kept: the start time and close price of each bar, and the smoothed close price\n",
    "\n",
    "Note the smoothing can be combined with bar generation but in order to make the processing more flexible, we decouple them. This also speeds up repeated tests because the bars are generated one time where data size is greatly reduced. Further smoothing is only applied to the resultant smaller dataset of 1-min bars. "
   ]
  },
  {
   "cell_type": "code",
   "execution_count": 15,
   "metadata": {},
   "outputs": [
    {
     "data": {
      "application/vnd.jupyter.widget-view+json": {
       "model_id": "",
       "version_major": 2,
       "version_minor": 0
      },
      "text/plain": [
       "FloatProgress(value=0.0, bar_style='info', description='Progress:', layout=Layout(height='25px', width='50%'),…"
      ]
     },
     "metadata": {},
     "output_type": "display_data"
    },
    {
     "name": "stdout",
     "output_type": "stream",
     "text": [
      "/usr/lib/spark/python/lib/pyspark.zip/pyspark/sql/pandas/functions.py:392: UserWarning: In Python 3.6+ and Spark 3.0+, it is preferred to specify type hints for pandas UDF instead of specifying pandas UDF type which will be deprecated in the future releases. See SPARK-28264 for more details."
     ]
    }
   ],
   "source": [
    "# 5-bars\n",
    "win=5\n",
    "smoothing = exponential_moving_average(win, \"start\", \"close\")\n",
    "\n",
    "# group the sets of values. Note need to partition by date to prevent the window spreading cross the day\n",
    "partitionList = [\"ticker\", \"eventtype\", \"date\"]\n",
    "\n",
    "tsDF = compute_analytics_on_features(tsDF, \"smoothed_close\", smoothing, partition_col_list = partitionList)"
   ]
  },
  {
   "cell_type": "code",
   "execution_count": 16,
   "metadata": {},
   "outputs": [
    {
     "data": {
      "application/vnd.jupyter.widget-view+json": {
       "model_id": "",
       "version_major": 2,
       "version_minor": 0
      },
      "text/plain": [
       "FloatProgress(value=0.0, bar_style='info', description='Progress:', layout=Layout(height='25px', width='50%'),…"
      ]
     },
     "metadata": {},
     "output_type": "display_data"
    },
    {
     "name": "stdout",
     "output_type": "stream",
     "text": [
      "root\n",
      " |-- start: timestamp (nullable = true)\n",
      " |-- close: double (nullable = true)\n",
      " |-- smoothed_close: double (nullable = true)"
     ]
    }
   ],
   "source": [
    "tsDF = (tsDF                \n",
    "        .withColumn(\"start\", tsDF.start)\n",
    "        .withColumn(\"close\", tsDF.close)\n",
    "        .withColumn(\"smoothed_close\", tsDF.smoothed_close)\n",
    "        # drop everything else\n",
    "        .drop(\"date\", \"ticker\", \"eventtype\", \"activity_count\", \"std\", \"vwap\", \"volume\", \"end\", \"open\", \"high\", \"low\")\n",
    "    ) \n",
    "tsDF.printSchema()"
   ]
  },
  {
   "cell_type": "markdown",
   "metadata": {},
   "source": [
    "# <span style=\"color:yellow\"> Pick a time period to identify head-shoulder patterns </span>\n",
    "Note: for best visual identification, the period should not be too large. 1 day is chosen for demo purpose"
   ]
  },
  {
   "cell_type": "code",
   "execution_count": 17,
   "metadata": {},
   "outputs": [
    {
     "data": {
      "application/vnd.jupyter.widget-view+json": {
       "model_id": "",
       "version_major": 2,
       "version_minor": 0
      },
      "text/plain": [
       "FloatProgress(value=0.0, bar_style='info', description='Progress:', layout=Layout(height='25px', width='50%'),…"
      ]
     },
     "metadata": {},
     "output_type": "display_data"
    },
    {
     "name": "stdout",
     "output_type": "stream",
     "text": [
      "151"
     ]
    }
   ],
   "source": [
    "pa_win_start = '2019-10-02 00:00:01'\n",
    "pa_win_end = '2019-10-02 23:59:59'\n",
    "tsDF=tsDF.filter(tsDF.start.between(pa_win_start, pa_win_end))\n",
    "tsDF.count()"
   ]
  },
  {
   "cell_type": "markdown",
   "metadata": {},
   "source": [
    "Extract the data within the selected period.\n",
    "\n",
    "Note `argrelextrema` can't process spark dataframe. Data is passed in as a `numpy` array through pandas dataframe"
   ]
  },
  {
   "cell_type": "code",
   "execution_count": 18,
   "metadata": {},
   "outputs": [
    {
     "data": {
      "application/vnd.jupyter.widget-view+json": {
       "model_id": "",
       "version_major": 2,
       "version_minor": 0
      },
      "text/plain": [
       "FloatProgress(value=0.0, bar_style='info', description='Progress:', layout=Layout(height='25px', width='50%'),…"
      ]
     },
     "metadata": {},
     "output_type": "display_data"
    }
   ],
   "source": [
    "window_range=3\n",
    "prices = tsDF.toPandas()[['start', 'close', 'smoothed_close']].set_index('start')\n",
    "smooth_prices = prices['smoothed_close'].dropna()"
   ]
  },
  {
   "cell_type": "markdown",
   "metadata": {},
   "source": [
    "# <span style=\"color:yellow\"> Find head-shoulders using local maxmins </span>\n",
    "\n",
    "Scipy function `argrelextrema` is used for this purpose. Then we perform further smoothing by picking minima and maxima out of a window: the local minima/maxima must be the minimum/maximum within the window of 7 bars centered on itself. This helps dampen noise when dealing with volatile time series.\n"
   ]
  },
  {
   "cell_type": "code",
   "execution_count": 19,
   "metadata": {},
   "outputs": [
    {
     "data": {
      "application/vnd.jupyter.widget-view+json": {
       "model_id": "",
       "version_major": 2,
       "version_minor": 0
      },
      "text/plain": [
       "FloatProgress(value=0.0, bar_style='info', description='Progress:', layout=Layout(height='25px', width='50%'),…"
      ]
     },
     "metadata": {},
     "output_type": "display_data"
    }
   ],
   "source": [
    "import pandas as pd\n",
    "local_max = argrelextrema(smooth_prices.values, np.greater)[0]\n",
    "local_min = argrelextrema(smooth_prices.values, np.less)[0]\n",
    "price_local_max_dt = []\n",
    "for i in local_max:\n",
    "    if (i>window_range) and (i<len(prices)-window_range):\n",
    "        price_local_max_dt.append(prices['close'].iloc[i-window_range:i+window_range].idxmax())\n",
    "price_local_min_dt = []\n",
    "for i in local_min:\n",
    "    if (i>window_range) and (i<len(prices)-window_range):\n",
    "        price_local_min_dt.append(prices['close'].iloc[i-window_range:i+window_range].idxmin())  \n",
    "\n",
    "maxima = pd.DataFrame(prices.close.loc[price_local_max_dt])\n",
    "maxima['type'] = ['max']*maxima.shape[0]\n",
    "\n",
    "minima = pd.DataFrame(prices.close.loc[price_local_min_dt])\n",
    "minima['type'] = ['min']*minima.shape[0]\n",
    "max_min = pd.concat([maxima, minima]).sort_index()\n",
    "max_min.index.name = 'winstart'\n",
    "#max_min = max_min.reset_index()\n",
    "max_min.head(30)\n",
    "\n",
    "is_duplicate = max_min.index.duplicated(keep=\"first\")\n",
    "not_duplicate = ~is_duplicate\n",
    "max_min=max_min.loc[not_duplicate]"
   ]
  },
  {
   "cell_type": "markdown",
   "metadata": {},
   "source": [
    "A head-shoulder pattern is identified by 5 points where \n",
    "* The 1st, 3rd and 5th are the local maxima and 2nd and 4th the minima\n",
    "* The total time span from 1st point to the last must be within a limit. Otherwise the pattern is of little value for trading purposes. In our demo, we use parameter max_unit and unit to specify the limit, e.g. 2 hours.\n",
    "* The neckline in the most typical head-shoulder patterns is normally flat, i.e. 2nd and 4th points are close. We hardcode (for simplicity) a small tolerance level (0.015 of the mean value of the two minima).\n",
    "\n",
    "The above 3 conditions are checked for all identified local minima and maxima to identify the patterns. "
   ]
  },
  {
   "cell_type": "code",
   "execution_count": 20,
   "metadata": {},
   "outputs": [
    {
     "data": {
      "application/vnd.jupyter.widget-view+json": {
       "model_id": "",
       "version_major": 2,
       "version_minor": 0
      },
      "text/plain": [
       "FloatProgress(value=0.0, bar_style='info', description='Progress:', layout=Layout(height='25px', width='50%'),…"
      ]
     },
     "metadata": {},
     "output_type": "display_data"
    }
   ],
   "source": [
    "#%% define functions\n",
    "def find_patterns(max_min, max_unit, unit):  \n",
    "    patterns = defaultdict(list)\n",
    "    \n",
    "    max_span = pd.Timedelta(max_unit, unit)\n",
    "    for i in range(5, len(max_min)):  \n",
    "        window = max_min.iloc[i-5:i]\n",
    "        \n",
    "        ## Pattern must play out in less than n units\n",
    "        if window.index[-1] - window.index[0] > max_span:      \n",
    "           continue   \n",
    "            \n",
    "        E = window.iloc[0:5].close\n",
    "                \n",
    "        # IHS\n",
    "        if E[0]<E[1] and E[2]<E[0] and E[2]<E[4] and E[4]<E[3] and abs(E[1]-E[3])<=np.mean(E[[1,3]])*0.015:\n",
    "            patterns['IHS'].append((window.index[0], window.index[-1]))\n",
    "        # HS: E1, E3 and E5 are the maximas \n",
    "        if E[0]>E[1] and E[2]>E[0] and E[2]>E[4] and E[4]>E[3] and abs(E[1]-E[3])<=np.mean(E[[1,3]])*0.015:\n",
    "            patterns['HS'].append((window.index[0], window.index[-1]))\n",
    "    \n",
    "    return patterns"
   ]
  },
  {
   "cell_type": "code",
   "execution_count": 21,
   "metadata": {},
   "outputs": [
    {
     "data": {
      "application/vnd.jupyter.widget-view+json": {
       "model_id": "",
       "version_major": 2,
       "version_minor": 0
      },
      "text/plain": [
       "FloatProgress(value=0.0, bar_style='info', description='Progress:', layout=Layout(height='25px', width='50%'),…"
      ]
     },
     "metadata": {},
     "output_type": "display_data"
    }
   ],
   "source": [
    "lasti = max_min.index[0]\n",
    "agg_maxmin = []\n",
    "\n",
    "for p in max_min.index[1:]:\n",
    "    if max_min.loc[p].type == max_min.loc[lasti].type:\n",
    "        if max_min.loc[p].type == 'max' and max_min.loc[p].close > max_min.loc[lasti].close or \\\n",
    "           max_min.loc[p].type == 'min' and max_min.loc[p].close < max_min.loc[lasti].close: \n",
    "           lasti = p\n",
    "    if max_min.loc[p].type != max_min.loc[lasti].type:\n",
    "        agg_maxmin.append(lasti)\n",
    "        lasti = p\n",
    "\n",
    "agg_maxmin.append(lasti)\n",
    "pat = find_patterns(max_min, 2, unit='H')"
   ]
  },
  {
   "cell_type": "markdown",
   "metadata": {},
   "source": [
    "# <span style=\"color:yellow\"> Plot head shoulders </span>"
   ]
  },
  {
   "cell_type": "code",
   "execution_count": 22,
   "metadata": {},
   "outputs": [
    {
     "data": {
      "application/vnd.jupyter.widget-view+json": {
       "model_id": "",
       "version_major": 2,
       "version_minor": 0
      },
      "text/plain": [
       "FloatProgress(value=0.0, bar_style='info', description='Progress:', layout=Layout(height='25px', width='50%'),…"
      ]
     },
     "metadata": {},
     "output_type": "display_data"
    },
    {
     "name": "stdout",
     "output_type": "stream",
     "text": [
      "[(Timestamp('2019-10-02 13:36:00'), Timestamp('2019-10-02 13:44:00')), (Timestamp('2019-10-02 13:46:00'), Timestamp('2019-10-02 14:03:00')), (Timestamp('2019-10-02 15:03:00'), Timestamp('2019-10-02 15:34:00'))]"
     ]
    }
   ],
   "source": [
    "print(pat['HS'])\n",
    "timestamps = lambda dtindex: [f'{t.hour}:{t.minute}:{t.second}' for t in dtindex]\n",
    "\n",
    "def get_end_point(tindex, xy1, xy2, length=1):\n",
    "    xrange = tindex.get_loc(xy2[0]) - tindex.get_loc(xy1[0])\n",
    "    slope = (xy2[1] - xy1[1] )/ xrange\n",
    "    xe = tindex[tindex.get_loc(xy1[0]) + xrange*length]\n",
    "    ye = xy1[1] + slope*xrange*length\n",
    "    #print(f'xe={xe}, ye={ye}, slopt={slope}, xrange={xrange}, length={length}')\n",
    "    return (xe, ye)            "
   ]
  },
  {
   "cell_type": "markdown",
   "metadata": {},
   "source": [
    "The identified head-shoulders are plotted. \n",
    "* The left and right shoulders and head are red dots. As seen, they are local maxima, of which the head is the largest\n",
    "* The neck points are in blue. \n",
    "* The neckline is the dashline through the two neck points. In this example, the neckline tilts upward.\n"
   ]
  },
  {
   "cell_type": "code",
   "execution_count": 23,
   "metadata": {},
   "outputs": [
    {
     "data": {
      "application/vnd.jupyter.widget-view+json": {
       "model_id": "",
       "version_major": 2,
       "version_minor": 0
      },
      "text/plain": [
       "FloatProgress(value=0.0, bar_style='info', description='Progress:', layout=Layout(height='25px', width='50%'),…"
      ]
     },
     "metadata": {},
     "output_type": "display_data"
    },
    {
     "data": {
      "image/png": "[encoded data removed]",
      "text/plain": [
       "<IPython.core.display.Image object>"
      ]
     },
     "metadata": {},
     "output_type": "display_data"
    }
   ],
   "source": [
    "#%% plot max min\n",
    "f, axes = plt.subplots(1, 1, figsize=(16, 5))\n",
    "#timestamps = [f'{t.hour}:{t.minute}:{t.second}' for t in prices.index]\n",
    "axes.plot(timestamps(prices.index), prices['close'])\n",
    "#axes.plot(smooth_prices)\n",
    "NT=len(prices['close'].index)\n",
    "xstep=10\n",
    "#axes.xaxis.set_ticks(prices['close'].index[range(0, NT, xstep)], rotation=45)\n",
    "#axes.set_xticklabels(prices['close'].index, rotation=45)\n",
    "axes.scatter(timestamps(max_min.index), max_min.close, s=100, alpha=.3, color='orange')\n",
    "axes.xaxis.set_major_locator(plt.MaxNLocator(20))\n",
    "axes.tick_params(labelrotation=45)\n",
    "\n",
    "pattern_color={'HS':'orange','IHS':'black'}\n",
    "for pt in pat.keys():\n",
    "    for win in pat[pt]:\n",
    "        w = max_min.loc[win[0]:win[1]]\n",
    "        axes.scatter(timestamps(w.index), w.close, s=150, marker='o', alpha=.3, color=pattern_color[pt])\n",
    "        axes.plot(timestamps(w.index), w.close, color=pattern_color[pt])\n",
    "        (xe, ye) = get_end_point(prices.index, (w.index[1], w.close[1]), (w.index[3], w.close[3]), length=2)\n",
    "        axes.plot(timestamps([w.index[1], xe]), [w.close[1], ye], dashes= (5, 2, 1, 2))\n",
    "        #axes.plot((prices.index.get_loc(w.index[1]), w.close[1]), (xe, ye), color='blue', dashes= (5, 2, 1, 2))  \n",
    "%matplot plt"
   ]
  },
  {
   "cell_type": "markdown",
   "metadata": {},
   "source": [
    "# <span style=\"color:yellow\"> Clean up </span>\n",
    "Run after all the tests are done and the cluster is no longer needed. "
   ]
  },
  {
   "cell_type": "code",
   "execution_count": null,
   "metadata": {},
   "outputs": [],
   "source": [
    "%local \n",
    "finspace_clusters.terminate(cluster_id)"
   ]
  }
 ],
 "metadata": {
  "instance_type": "ml.t3.medium",
  "kernelspec": {
   "display_name": "FinSpace PySpark (finspace-sparkmagic-04054/latest)",
   "language": "python",
   "name": "pysparkkernel__SAGEMAKER_INTERNAL__arn:aws:sagemaker:us-east-1:189779538621:image/finspace-sparkmagic-04054"
  },
  "language_info": {
   "codemirror_mode": {
    "name": "python",
    "version": 3
   },
   "mimetype": "text/x-python",
   "name": "pyspark",
   "pygments_lexer": "python3"
  }
 },
 "nbformat": 4,
 "nbformat_minor": 4
}
